{
 "cells": [
  {
   "cell_type": "code",
   "execution_count": 1,
   "metadata": {},
   "outputs": [],
   "source": [
    "from insert_errors import (\n",
    "    insert_maxim_error, float_to_maxim, maxim_to_float, insert_maxim_error_perbit\n",
    ")\n",
    "import numpy as np\n",
    "import matplotlib.pyplot as plt\n",
    "import time"
   ]
  },
  {
   "cell_type": "code",
   "execution_count": 2,
   "metadata": {},
   "outputs": [],
   "source": [
    "setpoint = 60\n",
    "std_noise = .25\n",
    "num_samples = 1_000_000\n",
    "# SEU_thresh = .90 # 10% chance of a bit flipping\n",
    "SEU_perbit = .99 # 1% chance of a bit flipping, for each bit"
   ]
  },
  {
   "cell_type": "code",
   "execution_count": 3,
   "metadata": {},
   "outputs": [],
   "source": [
    "# UTLIS\n",
    "def error_stats(data, expected):\n",
    "    error = data - expected\n",
    "    rmse = np.sqrt(np.sum((error)**2)/data.shape[0])\n",
    "    print(f'RMSE from setpoint: {rmse}')\n",
    "    print(f'Standard Deviation of error: {np.std(error)}')\n",
    "    print(f'Largest error: {np.max(error)} smallest error: {np.min(error)}')"
   ]
  },
  {
   "cell_type": "code",
   "execution_count": 4,
   "metadata": {},
   "outputs": [],
   "source": [
    "'''\n",
    "Experiment 0 a: Collect 1000000 temperatures from one TC with normal noise to\n",
    "calculate RMSE for a non-upset datastream\n",
    "'''\n",
    "clean_data = np.full((num_samples,), setpoint, dtype=np.float32)\n",
    "noise = np.random.normal(loc=0, scale=std_noise, size=clean_data.shape)\n",
    "clean_data += noise\n",
    "\n",
    "for i, d in enumerate(clean_data):\n",
    "    # Quantize to maxim precision of .25\n",
    "    clean_data[i] = maxim_to_float(float_to_maxim(d))"
   ]
  },
  {
   "cell_type": "code",
   "execution_count": 5,
   "metadata": {},
   "outputs": [
    {
     "name": "stdout",
     "output_type": "stream",
     "text": [
      "RMSE from setpoint: 0.2889750205467594\n",
      "Standard Deviation of error: 0.2603704035282135\n",
      "Largest error: 1.0 smallest error: -1.25\n"
     ]
    },
    {
     "data": {
      "image/png": "[encoded data removed]",
      "text/plain": [
       "<Figure size 432x288 with 1 Axes>"
      ]
     },
     "metadata": {},
     "output_type": "display_data"
    }
   ],
   "source": [
    "error_stats(clean_data, setpoint)\n",
    "plt.hist(clean_data)\n",
    "plt.show()"
   ]
  },
  {
   "cell_type": "code",
   "execution_count": 7,
   "metadata": {},
   "outputs": [
    {
     "name": "stdout",
     "output_type": "stream",
     "text": [
      "RMSE from setpoint: 0.15529938010480757\n",
      "Standard Deviation of error: 0.09210208610977527\n",
      "Largest error: 0.28125 smallest error: -0.5625\n"
     ]
    },
    {
     "data": {
      "image/png": "[encoded data removed]",
      "text/plain": [
       "<Figure size 432x288 with 1 Axes>"
      ]
     },
     "metadata": {},
     "output_type": "display_data"
    }
   ],
   "source": [
    "'''\n",
    "Experiment 0 b: Collect 1000000 temperatures from 8 TCs averaged with normal\n",
    "noise to calculate RMSE for a non-upset datastream\n",
    "'''\n",
    "tcs = np.array([(np.full((num_samples,), setpoint, dtype=np.float32) +\n",
    "       np.random.normal(loc=0, scale=std_noise, size=(num_samples,)))\n",
    "       for i in range(8)])\n",
    "\n",
    "for tc in tcs:\n",
    "    for i, d in enumerate(tc):\n",
    "        # Quantize to maxim precision of .25\n",
    "        tc[i] = maxim_to_float(float_to_maxim(d))\n",
    "\n",
    "tc_avg = np.mean(tcs, axis=0)\n",
    "error_stats(tc_avg, setpoint)\n",
    "plt.hist(tc_avg)\n",
    "plt.show()"
   ]
  },
  {
   "cell_type": "code",
   "execution_count": 9,
   "metadata": {},
   "outputs": [],
   "source": [
    "''' \n",
    "Experiment 1: Collect 1000000 temperatures from one TC with normal noise\n",
    "and apply SEUs to each reading with a probability P\n",
    "'''\n",
    "\n",
    "tc_data = np.full((num_samples,), setpoint, dtype=np.float32)\n",
    "noise = np.random.normal(loc=0, scale=std_noise, size=tc_data.shape)\n",
    "tc_data += noise\n",
    "\n",
    "for i, d in enumerate(tc_data):\n",
    "    # Quantize to maxim precision of .25\n",
    "    tc_data[i] = maxim_to_float(float_to_maxim(d))\n",
    "    \n",
    "\n",
    "with_seu = np.zeros_like(tc_data)\n",
    "for i in range(with_seu.shape[0]):\n",
    "    with_seu[i] = insert_maxim_error_perbit(tc_data[i],\n",
    "                                            upset_threshold=SEU_perbit)\n",
    "    "
   ]
  },
  {
   "cell_type": "code",
   "execution_count": 10,
   "metadata": {},
   "outputs": [
    {
     "name": "stdout",
     "output_type": "stream",
     "text": [
      "RMSE from setpoint: 119.5335103475172\n",
      "Standard Deviation of error: 118.25186920166016\n",
      "Largest error: 1791.5 smallest error: -1655.5\n"
     ]
    },
    {
     "data": {
      "image/png": "[encoded data removed]",
      "text/plain": [
       "<Figure size 432x288 with 1 Axes>"
      ]
     },
     "metadata": {},
     "output_type": "display_data"
    }
   ],
   "source": [
    "error_stats(with_seu, setpoint)\n",
    "plt.hist(with_seu)\n",
    "plt.show()"
   ]
  },
  {
   "cell_type": "code",
   "execution_count": 12,
   "metadata": {},
   "outputs": [],
   "source": [
    "''' \n",
    "Experiment 2 a: Generate temperatures with SEUs for 8 TCs and do the \n",
    "average on them.\n",
    "'''\n",
    "tcs = np.array([(np.full((num_samples,), setpoint, dtype=np.float32) +\n",
    "       np.random.normal(loc=0, scale=std_noise, size=tc_data.shape))\n",
    "       for i in range(8)])\n",
    "\n",
    "for tc in tcs:\n",
    "    for i, d in enumerate(tc):\n",
    "        # Quantize to maxim precision of .25\n",
    "        tc[i] = maxim_to_float(float_to_maxim(d))"
   ]
  },
  {
   "cell_type": "code",
   "execution_count": 14,
   "metadata": {},
   "outputs": [],
   "source": [
    "tcs_seu = np.array([np.zeros_like(tcs[0]) for i in range(len(tcs))])\n",
    "\n",
    "for idx, tc in enumerate(tcs_seu):\n",
    "    for i in range(tc.shape[0]):\n",
    "        tc[i] = insert_maxim_error_perbit(tcs[idx][i],\n",
    "                                          upset_threshold=SEU_perbit)"
   ]
  },
  {
   "cell_type": "code",
   "execution_count": 15,
   "metadata": {},
   "outputs": [],
   "source": [
    "# Compute avg\n",
    "tc_avg = np.mean(tcs_seu, axis=0)"
   ]
  },
  {
   "cell_type": "code",
   "execution_count": 16,
   "metadata": {},
   "outputs": [
    {
     "name": "stdout",
     "output_type": "stream",
     "text": [
      "RMSE from setpoint: 45.540393655279615\n",
      "Standard Deviation of error: 42.00520050268957\n",
      "Largest error: 448.15625 smallest error: -207.25\n"
     ]
    },
    {
     "data": {
      "image/png": "[encoded data removed]",
      "text/plain": [
       "<Figure size 432x288 with 1 Axes>"
      ]
     },
     "metadata": {},
     "output_type": "display_data"
    }
   ],
   "source": [
    "error_stats(tc_avg, setpoint)\n",
    "plt.hist(tc_avg)\n",
    "plt.show()"
   ]
  },
  {
   "cell_type": "code",
   "execution_count": 17,
   "metadata": {},
   "outputs": [
    {
     "name": "stdout",
     "output_type": "stream",
     "text": [
      "RMSE from setpoint: 1.4467588924795831\n",
      "Standard Deviation of error: 1.443314018784871\n",
      "Largest error: 257.0 smallest error: -60.0\n"
     ]
    },
    {
     "data": {
      "image/png": "[encoded data removed]",
      "text/plain": [
       "<Figure size 432x288 with 1 Axes>"
      ]
     },
     "metadata": {},
     "output_type": "display_data"
    }
   ],
   "source": [
    "''' \n",
    "Experiment 2 b: Median on 8 TCs\n",
    "'''\n",
    "tc_medians = np.median(tcs_seu, axis=0)\n",
    "error_stats(tc_medians, setpoint)\n",
    "plt.hist(tc_medians)\n",
    "plt.show()"
   ]
  },
  {
   "cell_type": "code",
   "execution_count": 18,
   "metadata": {},
   "outputs": [],
   "source": [
    "# Plurality UTILS\n",
    "from itertools import chain, combinations\n",
    "\n",
    "def powerset(iterable, k):\n",
    "    s = list(iterable)\n",
    "    return chain.from_iterable(combinations(s, r) for r in range(k, len(s)+1))"
   ]
  },
  {
   "cell_type": "code",
   "execution_count": 19,
   "metadata": {},
   "outputs": [],
   "source": [
    "'''\n",
    "Experiment 2 c: k-Plurality voting on 8 TCs\n",
    "k=?\n",
    "When no agreement, output median.\n",
    "Use average of agreeing subset\n",
    "'''\n",
    "\n",
    "# For each set of measurements, determine biggest subset of agreeable values\n",
    "# for i in range(tcs_seu.shape[1]):\n",
    "def plurality(tcs_seu, num_pts, k, delta, suppress=False):\n",
    "    defaults = np.median(tcs_seu, axis=0)\n",
    "    voted_out = defaults.copy()\n",
    "\n",
    "    for i in range(num_pts):\n",
    "        ps = powerset(tcs_seu[:, i], k)\n",
    "        best = tuple()\n",
    "        for s in ps: # for each subset in powerset i.e. (60, 60.5, 71)\n",
    "            all_within = True\n",
    "            for meas in s:\n",
    "                for other in s:\n",
    "                    # If any measurement in this subset is not valid, break\n",
    "                    if abs(meas - other) > delta:\n",
    "                        all_within = False\n",
    "                        break\n",
    "                if not all_within:\n",
    "                    break\n",
    "            if not all_within:\n",
    "                continue\n",
    "            if all_within and len(s) > len(best):\n",
    "                best = s\n",
    "        if len(best) >= k:\n",
    "            voted_avg = sum(best)/len(best)\n",
    "            voted_out[i] = voted_avg\n",
    "        else:\n",
    "            if not suppress:\n",
    "                print(f'i={i} using median {defaults[i]} for data {tcs_seu[:,i]}') \n",
    "    return voted_out\n",
    "\n",
    "def plurality_fast(tcs_seu, num_pts, k, delta, suppress=False):\n",
    "    defaults = np.median(tcs_seu, axis=0)\n",
    "    voted_out = defaults.copy()\n",
    "\n",
    "    for i in range(num_pts):\n",
    "        ps = powerset(tcs_seu[:, i], k)\n",
    "        best = tuple()\n",
    "        for s in ps: # for each subset in powerset i.e. (60, 60.5, 71)\n",
    "            if abs(max(s) - min(s)) > delta:\n",
    "                continue\n",
    "            if len(s) > len(best):\n",
    "                best = s\n",
    "        if len(best) >= k:\n",
    "            voted_avg = sum(best)/len(best)\n",
    "            voted_out[i] = voted_avg\n",
    "        else:\n",
    "            if not suppress:\n",
    "                print(f'i={i} using median {defaults[i]} for data {tcs_seu[:,i]}') \n",
    "    return voted_out"
   ]
  },
  {
   "cell_type": "code",
   "execution_count": 20,
   "metadata": {},
   "outputs": [
    {
     "name": "stdout",
     "output_type": "stream",
     "text": [
      "0.19336676597595215\n"
     ]
    }
   ],
   "source": [
    "# With max min optimization\n",
    "s = time.time()\n",
    "plural_voted100fast = plurality_fast(tcs_seu, 100, 5, 1)\n",
    "e = time.time()\n",
    "print(e - s)"
   ]
  },
  {
   "cell_type": "code",
   "execution_count": 21,
   "metadata": {},
   "outputs": [
    {
     "name": "stdout",
     "output_type": "stream",
     "text": [
      "i=125 using median 61.25 for data [ 59.75  187.5   571.75   59.75   60.25  319.625  60.     62.25 ]\n",
      "i=164 using median 59.75 for data [  44.    188.     59.75 1083.75   59.75   59.75   59.75  315.75]\n",
      "i=416 using median 60.25 for data [ 60.25  316.25   63.5    59.75  124.375  59.25   51.5    60.25 ]\n",
      "i=566 using median 60.0 for data [572.   -60.25  59.75 316.25  60.    59.75  60.   189.  ]\n",
      "i=607 using median 60.125 for data [ 60.    60.25 124.    60.    52.   124.    60.25  58.75]\n",
      "i=722 using median 59.4375 for data [ 59.625  52.25   51.75   59.75   30.     59.25  315.75   60.   ]\n",
      "i=854 using median 61.75 for data [188.    60.    63.5  123.75  60.   124.5   60.    59.75]\n",
      "i=928 using median 59.875 for data [ 58.5  187.5  571.5  -60.   315.75  59.5   60.25  59.5 ]\n",
      "0.2829906940460205\n"
     ]
    }
   ],
   "source": [
    "# With max min optimization\n",
    "s = time.time()\n",
    "plural_voted1000fast = plurality_fast(tcs_seu, 1000, 5, 1)\n",
    "e = time.time()\n",
    "print(e - s)"
   ]
  },
  {
   "cell_type": "code",
   "execution_count": 22,
   "metadata": {},
   "outputs": [
    {
     "name": "stdout",
     "output_type": "stream",
     "text": [
      "i=125 using median 61.25 for data [ 59.75  187.5   571.75   59.75   60.25  319.625  60.     62.25 ]\n",
      "i=164 using median 59.75 for data [  44.    188.     59.75 1083.75   59.75   59.75   59.75  315.75]\n",
      "i=416 using median 60.25 for data [ 60.25  316.25   63.5    59.75  124.375  59.25   51.5    60.25 ]\n",
      "i=566 using median 60.0 for data [572.   -60.25  59.75 316.25  60.    59.75  60.   189.  ]\n",
      "i=607 using median 60.125 for data [ 60.    60.25 124.    60.    52.   124.    60.25  58.75]\n",
      "i=722 using median 59.4375 for data [ 59.625  52.25   51.75   59.75   30.     59.25  315.75   60.   ]\n",
      "i=854 using median 61.75 for data [188.    60.    63.5  123.75  60.   124.5   60.    59.75]\n",
      "i=928 using median 59.875 for data [ 58.5  187.5  571.5  -60.   315.75  59.5   60.25  59.5 ]\n",
      "i=1023 using median 59.625 for data [ 43.75 123.5   59.25  60.    52.    60.25  59.    60.  ]\n",
      "i=1107 using median 59.875 for data [  27.75 1083.5    59.75   52.     60.    315.75   60.5    59.75]\n",
      "i=1213 using median 59.625 for data [ 58.5   58.75  57.75  60.25  59.75  59.75  59.5  316.  ]\n",
      "i=1275 using median 59.25 for data [ 60.    60.25  59.75  58.75  60.25 -59.75  43.75 -60.  ]\n",
      "i=1383 using median 59.75 for data [ 60.    52.    59.75 -60.   124.25  59.75  59.75  57.75]\n",
      "i=1399 using median 59.75 for data [ 60.    59.75  28.    59.5   62.    59.75  60.75 -59.75]\n",
      "i=1475 using median 59.875 for data [  59.125   59.25    59.75    60.5   1051.75    60.25    60.      52.   ]\n",
      "i=1812 using median 60.0 for data [ 60.   188.    60.   572.    43.75  59.75  60.   315.75]\n",
      "i=1890 using median 59.875 for data [  60.     59.75   60.   1086.     43.75  -59.75   59.5   571.25]\n",
      "i=2080 using median 59.5 for data [  59.5    59.25 1083.5    59.5    27.75   59.75  -59.75 1084.  ]\n",
      "i=2196 using median 61.375 for data [572.25  60.5  187.25  59.75  59.5   59.75 315.75  62.25]\n",
      "i=2412 using median 58.375 for data [57.25 59.5  60.   27.75 28.5  44.25 60.   59.5 ]\n",
      "i=2470 using median 60.0 for data [ 59.75  60.25  60.   188.    27.75  56.5   60.    62.25]\n",
      "i=2594 using median 60.0 for data [ 59.75  63.75  60.5  -60.    27.5   60.25 124.    59.75]\n",
      "i=2711 using median 59.75 for data [-60.    59.75  60.    59.75 124.25  44.25  59.75  28.  ]\n",
      "i=2758 using median 60.125 for data [ 60.   -59.5  123.75  62.25  60.25  60.25  27.75  59.75]\n",
      "i=2818 using median 60.125 for data [ 59.75  60.25  59.75  63.75 -60.   571.75  60.    62.  ]\n",
      "i=2825 using median 59.625 for data [  59.75   28.     42.5    60.   1083.5    59.5    60.     52.  ]\n",
      "i=2944 using median 59.75 for data [61.   61.   60.   59.75 58.25 43.75 59.75 59.75]\n",
      "i=3062 using median 60.0 for data [315.75 123.75  63.75  44.5   60.    60.    60.    60.  ]\n",
      "i=3118 using median 60.0 for data [ 60.25  59.75  52.   571.75  60.   572.    60.    28.25]\n",
      "i=3189 using median 55.75 for data [59.75 51.75 60.   59.75 27.75 60.   44.   12.25]\n",
      "i=3386 using median 60.0 for data [   60.      60.     572.     188.      60.      59.75   -59.75 -1083.75]\n",
      "i=3402 using median 92.875 for data [188.   123.75  62.    60.   571.75 187.75  60.    60.  ]\n",
      "i=3426 using median 59.625 for data [57.5  60.   28.   60.   59.75 62.   28.25 59.5 ]\n",
      "i=3546 using median 59.875 for data [315.75  61.    59.5  -59.75 315.75  60.    59.5   59.75]\n",
      "i=3581 using median 60.125 for data [187.75  62.    59.75 571.75  59.5   60.25  28.    60.  ]\n",
      "i=3628 using median 61.375 for data [  60.5    59.5  1084.    283.75   60.     62.25  188.     60.  ]\n",
      "i=3685 using median 92.125 for data [ 60.25 124.   315.5   60.    59.25 318.    60.   124.  ]\n",
      "i=3994 using median 60.0 for data [63.75 45.   62.   60.   60.   59.75 60.25 28.  ]\n",
      "i=4030 using median 60.375 for data [ 62.    59.75  59.25  60.5  188.    61.    60.25  60.  ]\n",
      "i=4338 using median 59.75 for data [ 48.25  60.    57.25  59.75  59.75  58.75 188.    59.75]\n",
      "i=4579 using median 60.5 for data [ 63.75  59.75  60.75 124.    59.5   60.25  59.75 187.25]\n",
      "i=4721 using median 59.75 for data [  27.75   59.75 1084.25   60.     59.5   187.5    52.     59.75]\n",
      "i=4836 using median 59.375 for data [59.5  44.5  59.25 60.   28.   60.5  43.75 60.  ]\n",
      "i=5002 using median 60.0 for data [  60.     60.    -59.75   59.5    44.     62.   1083.75   60.  ]\n",
      "i=5074 using median 92.0 for data [ 190.     60.     59.75  572.25 1084.    123.75   60.25   59.75]\n",
      "i=5149 using median 60.125 for data [  60.25   60.     62.     60.    572.   1083.75   60.     57.75]\n",
      "i=5200 using median 59.75 for data [ 52.   315.25  28.25  60.    59.75 572.    59.75  59.25]\n",
      "i=5731 using median 60.0 for data [  60.25  540.     51.5  1083.75   57.25   59.75   59.75   60.5 ]\n",
      "i=5753 using median 59.75 for data [  59.75   57.75   60.    -59.5    59.75   59.75  572.5  1083.5 ]\n",
      "i=5928 using median 59.875 for data [  52.     60.     60.     59.75   56.     60.5    59.25 1083.25]\n",
      "i=5989 using median 60.0 for data [60.75 61.   44.   59.5  60.25 59.75 56.   60.25]\n",
      "i=6059 using median 59.5 for data [ -59.5  1083.75   59.75   59.5    59.5    59.75   57.75   52.5 ]\n",
      "i=6129 using median 60.0 for data [124.   -59.75 -59.75  60.    59.75  60.   315.75  60.  ]\n",
      "i=6132 using median 59.75 for data [ 51.5   59.75  44.25 187.75  59.75 -60.    60.   572.  ]\n",
      "i=6169 using median 51.5 for data [-59.5  -59.25  43.5   43.5   59.5   59.75  59.5   60.  ]\n",
      "i=6182 using median 60.25 for data [ 60.   187.75 571.5   60.25  59.75 571.75  60.25  27.5 ]\n",
      "i=6229 using median 61.0 for data [  59.75    59.875 1084.      62.      60.    1084.5    188.25    60.   ]\n",
      "i=6364 using median 124.0 for data [ 571.75   59.75   59.75  187.75 1083.75  315.75   60.25   60.  ]\n",
      "i=6384 using median 60.0 for data [1083.75 1084.25   59.75   57.5    59.5    60.25   60.25  -59.5 ]\n",
      "i=6469 using median 59.5 for data [59.5  59.5  27.75 60.   27.75 56.   62.   59.75]\n",
      "i=6530 using median 59.875 for data [  59.75   60.     62.25   28.   1083.75   59.75   59.75  124.  ]\n",
      "i=6603 using median 124.125 for data [315.75  60.   315.75  59.75  59.5   60.5  572.   187.75]\n",
      "i=6635 using median 59.875 for data [ 27.75   60.    -59.5    60.25   43.5    59.75   60.     62.375]\n",
      "i=6813 using median 59.875 for data [ 27.75  59.5  187.75  63.75 -59.75  60.    59.75  60.  ]\n",
      "i=6964 using median 59.625 for data [ 60.   123.75  59.5   58.75  60.   -60.    59.75  27.75]\n",
      "i=7025 using median 60.0 for data [   60.      60.      59.75   315.25 -1084.25    60.     315.75   572.  ]\n",
      "i=7065 using median 60.125 for data [  60.25   59.75   59.25   60.     60.5    56.25 1084.25  187.75]\n",
      "i=7134 using median 59.75 for data [188.25  43.25  59.75  59.5   63.75 164.    51.75  59.75]\n",
      "i=7239 using median 60.125 for data [ 60.25  58.75 123.75 571.25  60.    61.25  60.    59.5 ]\n",
      "i=7312 using median 59.75 for data [ 59.75  51.75 187.75 571.75  56.    59.75  59.25 188.25]\n",
      "i=7381 using median 59.875 for data [187.75  59.75  59.75  60.   -58.75  59.5  315.5   62.  ]\n",
      "i=7490 using median 60.25 for data [ 59.5   62.25  60.75  60.25  51.75  60.25 188.    59.75]\n",
      "i=7558 using median 59.875 for data [572.    59.75  59.75  59.75 124.25  61.    60.    58.5 ]\n",
      "i=7995 using median 59.75 for data [316.   315.5   60.    60.    59.5   51.75  43.5   43.75]\n",
      "i=8372 using median 59.625 for data [188.   124.    52.    60.    52.    59.25  28.    60.  ]\n",
      "i=8515 using median 60.125 for data [ 60.    59.25  59.25  27.75 572.25 124.    60.5   60.25]\n",
      "i=8541 using median 61.125 for data [ 59.5  123.75  62.    60.   315.25  63.75  60.25  60.25]\n",
      "i=8551 using median 60.0 for data [ 27.75  60.75 572.5   59.5   59.75 123.75  60.    60.  ]\n",
      "i=8578 using median 59.625 for data [ 43.75 124.    59.5   51.75  59.75  59.75  51.75  60.  ]\n",
      "i=8602 using median 60.0 for data [ 60.    60.    60.25  29.    58.5  316.25 -59.75  60.  ]\n",
      "i=8727 using median 59.875 for data [ 60.25 572.    59.25  60.    59.    59.75 -60.5  316.25]\n",
      "i=9197 using median 59.75 for data [ 59.75  59.5   60.75 -60.   123.75  27.75  59.75  60.25]\n",
      "i=9310 using median 59.625 for data [ 62.25  59.5   58.75  59.75 -60.    61.    59.5   60.  ]\n",
      "i=9344 using median 59.875 for data [ 59.75 188.    59.75 572.   316.    59.5   27.25  60.  ]\n",
      "i=9493 using median 59.875 for data [  52.25   60.25  188.5  -188.25  316.     59.75   60.     59.75]\n",
      "i=9497 using median 59.625 for data [ 58.75  59.75  59.5   59.75 124.25  60.   -60.   -60.  ]\n",
      "i=9518 using median 60.25 for data [  60.     60.5  1084.     62.     62.     59.75   56.     60.  ]\n",
      "i=9641 using median 60.0 for data [ 56.    60.    60.    59.5   57.75  62.    60.   172.  ]\n",
      "i=9702 using median 59.75 for data [ 59.75   59.75   62.25   60.    572.25  -60.125  36.25   59.75 ]\n",
      "i=9708 using median 60.125 for data [1083.75   60.25   59.     61.5    62.     60.     60.     60.  ]\n",
      "i=9779 using median 59.875 for data [  59.75   59.25   60.25   60.     56.   1068.25   58.25   62.  ]\n",
      "i=9911 using median 60.125 for data [  59.75   60.   1084.25   63.75   60.25   51.75   59.5   123.75]\n",
      "i=9913 using median 60.125 for data [  60.25   60.     43.75   59.75  187.75 -188.    188.     60.25]\n",
      "1.2975060939788818\n"
     ]
    }
   ],
   "source": [
    "# With max min optimization\n",
    "s = time.time()\n",
    "plural_voted10_000fast = plurality_fast(tcs_seu, 10000, 5, 1)\n",
    "e = time.time()\n",
    "print(e - s)"
   ]
  },
  {
   "cell_type": "code",
   "execution_count": 23,
   "metadata": {},
   "outputs": [
    {
     "name": "stdout",
     "output_type": "stream",
     "text": [
      "11.782464504241943\n"
     ]
    }
   ],
   "source": [
    "# With max min optimization\n",
    "s = time.time()\n",
    "plural_voted100_000fast = plurality_fast(tcs_seu, 100000, 5, 1, suppress=True)\n",
    "e = time.time()\n",
    "print(e - s)"
   ]
  },
  {
   "cell_type": "code",
   "execution_count": 24,
   "metadata": {},
   "outputs": [
    {
     "name": "stdout",
     "output_type": "stream",
     "text": [
      "106.50875926017761\n",
      "RMSE from setpoint: 1.4448112160046602\n",
      "Standard Deviation of error: 1.4410664360699346\n",
      "Largest error: 257.0 smallest error: -60.0\n"
     ]
    }
   ],
   "source": [
    "# k=5, delta=1\n",
    "s = time.time()\n",
    "plural_voted1_000_000fast = plurality_fast(tcs_seu, 1000000, 5, 1, suppress=True)\n",
    "e = time.time()\n",
    "print(e - s)\n",
    "error_stats(plural_voted1_000_000fast, setpoint)"
   ]
  },
  {
   "cell_type": "code",
   "execution_count": 25,
   "metadata": {},
   "outputs": [
    {
     "name": "stdout",
     "output_type": "stream",
     "text": [
      "RMSE from setpoint: 1.4448112160046602\n",
      "Standard Deviation of error: 1.4410664360699346\n",
      "Largest error: 257.0 smallest error: -60.0\n"
     ]
    }
   ],
   "source": [
    "error_stats(plural_voted1_000_000fast, setpoint)"
   ]
  },
  {
   "cell_type": "code",
   "execution_count": 29,
   "metadata": {},
   "outputs": [
    {
     "name": "stdout",
     "output_type": "stream",
     "text": [
      "101.59947419166565\n",
      "RMSE from setpoint: 1.4448112160046602\n",
      "Standard Deviation of error: 1.4410664360699346\n",
      "Largest error: 257.0 smallest error: -60.0\n"
     ]
    }
   ],
   "source": [
    "# k=5, delta=1\n",
    "s = time.time()\n",
    "plural_k5d1 = plurality_fast(tcs_seu, 1000000, 5, 1, suppress=True)\n",
    "e = time.time()\n",
    "print(e - s)\n",
    "error_stats(plural_k5d1, setpoint)"
   ]
  },
  {
   "cell_type": "code",
   "execution_count": 26,
   "metadata": {},
   "outputs": [
    {
     "name": "stdout",
     "output_type": "stream",
     "text": [
      "167.9993965625763\n",
      "RMSE from setpoint: 0.9508494858886664\n",
      "Standard Deviation of error: 0.943616624460667\n",
      "Largest error: 257.0 smallest error: -32.1875\n"
     ]
    }
   ],
   "source": [
    "# k=4, delta=1\n",
    "s = time.time()\n",
    "plural_k4d1 = plurality_fast(tcs_seu, 1000000, 4, 1, suppress=True)\n",
    "e = time.time()\n",
    "print(e - s)\n",
    "error_stats(plural_k4d1, setpoint)"
   ]
  },
  {
   "cell_type": "code",
   "execution_count": 30,
   "metadata": {},
   "outputs": [
    {
     "name": "stdout",
     "output_type": "stream",
     "text": [
      "168.6077024936676\n",
      "RMSE from setpoint: 0.9466661811906052\n",
      "Standard Deviation of error: 0.9393654402932222\n",
      "Largest error: 257.0 smallest error: -32.1875\n"
     ]
    }
   ],
   "source": [
    "# k=4, delta=2\n",
    "s = time.time()\n",
    "plural_k4d2 = plurality_fast(tcs_seu, 1000000, 4, 2, suppress=True)\n",
    "e = time.time()\n",
    "print(e - s)\n",
    "error_stats(plural_k4d2, setpoint)"
   ]
  },
  {
   "cell_type": "code",
   "execution_count": 27,
   "metadata": {},
   "outputs": [
    {
     "name": "stdout",
     "output_type": "stream",
     "text": [
      "218.27114176750183\n",
      "RMSE from setpoint: 1.8199984404866307\n",
      "Standard Deviation of error: 1.8161366397438883\n",
      "Largest error: 1023.75 smallest error: -119.75\n"
     ]
    }
   ],
   "source": [
    "# k=3, delta=1\n",
    "s = time.time()\n",
    "plural_k3d1 = plurality_fast(tcs_seu, 1000000, 3, 1, suppress=True)\n",
    "e = time.time()\n",
    "print(e - s)\n",
    "error_stats(plural_k3d1, setpoint)"
   ]
  },
  {
   "cell_type": "code",
   "execution_count": 28,
   "metadata": {},
   "outputs": [
    {
     "name": "stdout",
     "output_type": "stream",
     "text": [
      "234.32266926765442\n",
      "RMSE from setpoint: 2.9695637856897474\n",
      "Standard Deviation of error: 2.967401626439815\n",
      "Largest error: 1024.375 smallest error: -119.75\n"
     ]
    }
   ],
   "source": [
    "# k=2, delta=1\n",
    "s = time.time()\n",
    "plural_k2d1 = plurality_fast(tcs_seu, 1000000, 2, 1, suppress=True)\n",
    "e = time.time()\n",
    "print(e - s)\n",
    "error_stats(plural_k2d1, setpoint)"
   ]
  }
 ],
 "metadata": {
  "kernelspec": {
   "display_name": "Python 3",
   "language": "python",
   "name": "python3"
  },
  "language_info": {
   "codemirror_mode": {
    "name": "ipython",
    "version": 3
   },
   "file_extension": ".py",
   "mimetype": "text/x-python",
   "name": "python",
   "nbconvert_exporter": "python",
   "pygments_lexer": "ipython3",
   "version": "3.6.9"
  }
 },
 "nbformat": 4,
 "nbformat_minor": 2
}
