{
 "cells": [
  {
   "cell_type": "code",
   "execution_count": 1,
   "metadata": {},
   "outputs": [],
   "source": [
    "from insert_errors import (\n",
    "    insert_maxim_error, float_to_maxim, maxim_to_float, insert_maxim_error_perbit\n",
    ")\n",
    "import numpy as np\n",
    "import matplotlib.pyplot as plt\n",
    "import time\n",
    "%matplotlib inline"
   ]
  },
  {
   "cell_type": "code",
   "execution_count": 2,
   "metadata": {},
   "outputs": [],
   "source": [
    "setpoint = 60\n",
    "std_noise = .25\n",
    "num_samples = 1_000_000\n",
    "# SEU_thresh = .90 # 10% chance of a bit flipping\n",
    "SEU_perbit = .99 # 1% chance of a bit flipping, for each bit"
   ]
  },
  {
   "cell_type": "code",
   "execution_count": 3,
   "metadata": {},
   "outputs": [],
   "source": [
    "# UTLIS\n",
    "def error_stats(data, expected, suppress=False):\n",
    "    error = data - expected\n",
    "    rmse = np.sqrt(np.sum((error)**2)/data.shape[0])\n",
    "    stderr = np.std(error)\n",
    "    if not suppress:\n",
    "        print(f'RMSE from setpoint: {rmse}')\n",
    "        print(f'Standard Deviation of error: {stderr}')\n",
    "        print(f'Largest error: {np.max(error)} smallest error: {np.min(error)}')\n",
    "    return rmse, stderr"
   ]
  },
  {
   "cell_type": "code",
   "execution_count": 4,
   "metadata": {},
   "outputs": [],
   "source": [
    "'''\n",
    "Experiment 0 a: Collect 1000000 temperatures from one TC with normal noise to\n",
    "calculate RMSE for a non-upset datastream\n",
    "'''\n",
    "clean_data = np.full((num_samples,), setpoint, dtype=np.float32)\n",
    "noise = np.random.normal(loc=0, scale=std_noise, size=clean_data.shape)\n",
    "clean_data += noise\n",
    "\n",
    "for i, d in enumerate(clean_data):\n",
    "    # Quantize to maxim precision of .25\n",
    "    clean_data[i] = maxim_to_float(float_to_maxim(d))"
   ]
  },
  {
   "cell_type": "code",
   "execution_count": 5,
   "metadata": {},
   "outputs": [
    {
     "name": "stdout",
     "output_type": "stream",
     "text": [
      "RMSE from setpoint: 0.2890966533877554\n",
      "Standard Deviation of error: 0.26048964262008667\n",
      "Largest error: 1.0 smallest error: -1.5\n"
     ]
    },
    {
     "data": {
      "image/png": "[encoded data removed]",
      "text/plain": [
       "<Figure size 432x288 with 1 Axes>"
      ]
     },
     "metadata": {},
     "output_type": "display_data"
    }
   ],
   "source": [
    "error_stats(clean_data, setpoint)\n",
    "plt.hist(clean_data)\n",
    "plt.show()"
   ]
  },
  {
   "cell_type": "code",
   "execution_count": 6,
   "metadata": {},
   "outputs": [
    {
     "name": "stdout",
     "output_type": "stream",
     "text": [
      "RMSE from setpoint: 0.15511221051729776\n",
      "Standard Deviation of error: 0.09202304534687539\n",
      "Largest error: 0.34375 smallest error: -0.53125\n"
     ]
    },
    {
     "data": {
      "image/png": "[encoded data removed]",
      "text/plain": [
       "<Figure size 432x288 with 1 Axes>"
      ]
     },
     "metadata": {},
     "output_type": "display_data"
    }
   ],
   "source": [
    "'''\n",
    "Experiment 0 b: Collect 1000000 temperatures from 8 TCs averaged with normal\n",
    "noise to calculate RMSE for a non-upset datastream\n",
    "'''\n",
    "tcs = np.array([(np.full((num_samples,), setpoint, dtype=np.float32) +\n",
    "       np.random.normal(loc=0, scale=std_noise, size=(num_samples,)))\n",
    "       for i in range(8)])\n",
    "\n",
    "for tc in tcs:\n",
    "    for i, d in enumerate(tc):\n",
    "        # Quantize to maxim precision of .25\n",
    "        tc[i] = maxim_to_float(float_to_maxim(d))\n",
    "\n",
    "tc_avg = np.mean(tcs, axis=0)\n",
    "error_stats(tc_avg, setpoint)\n",
    "fig, ax = plt.subplots(1)\n",
    "ax.hist(tc_avg)\n",
    "ax.set_yscale('log')"
   ]
  },
  {
   "cell_type": "code",
   "execution_count": 7,
   "metadata": {},
   "outputs": [],
   "source": [
    "''' \n",
    "Experiment 1: Collect 1000000 temperatures from one TC with normal noise\n",
    "and apply SEUs to each reading with a probability P\n",
    "'''\n",
    "\n",
    "tc_data = np.full((num_samples,), setpoint, dtype=np.float32)\n",
    "noise = np.random.normal(loc=0, scale=std_noise, size=tc_data.shape)\n",
    "tc_data += noise\n",
    "\n",
    "for i, d in enumerate(tc_data):\n",
    "    # Quantize to maxim precision of .25\n",
    "    tc_data[i] = maxim_to_float(float_to_maxim(d))\n",
    "    \n",
    "\n",
    "with_seu = np.zeros_like(tc_data)\n",
    "for i in range(with_seu.shape[0]):\n",
    "    with_seu[i] = insert_maxim_error_perbit(tc_data[i],\n",
    "                                            upset_threshold=SEU_perbit)\n",
    "    "
   ]
  },
  {
   "cell_type": "code",
   "execution_count": 8,
   "metadata": {},
   "outputs": [
    {
     "name": "stdout",
     "output_type": "stream",
     "text": [
      "RMSE from setpoint: 120.08883325272171\n",
      "Standard Deviation of error: 118.79564666748047\n",
      "Largest error: 1791.75 smallest error: -1655.5\n"
     ]
    },
    {
     "data": {
      "image/png": "[encoded data removed]",
      "text/plain": [
       "<Figure size 432x288 with 1 Axes>"
      ]
     },
     "metadata": {},
     "output_type": "display_data"
    }
   ],
   "source": [
    "error_stats(with_seu, setpoint)\n",
    "fig, ax = plt.subplots(1)\n",
    "ax.hist(with_seu)\n",
    "ax.set_yscale('log')"
   ]
  },
  {
   "cell_type": "code",
   "execution_count": 9,
   "metadata": {},
   "outputs": [],
   "source": [
    "''' \n",
    "Experiment 2 a: Generate temperatures with SEUs for 8 TCs and do the \n",
    "average on them.\n",
    "'''\n",
    "tcs = np.array([(np.full((num_samples,), setpoint, dtype=np.float32) +\n",
    "       np.random.normal(loc=0, scale=std_noise, size=tc_data.shape))\n",
    "       for i in range(8)])\n",
    "\n",
    "for tc in tcs:\n",
    "    for i, d in enumerate(tc):\n",
    "        # Quantize to maxim precision of .25\n",
    "        tc[i] = maxim_to_float(float_to_maxim(d))"
   ]
  },
  {
   "cell_type": "code",
   "execution_count": 10,
   "metadata": {},
   "outputs": [],
   "source": [
    "tcs_seu = np.array([np.zeros_like(tcs[0]) for i in range(len(tcs))])\n",
    "\n",
    "for idx, tc in enumerate(tcs_seu):\n",
    "    for i in range(tc.shape[0]):\n",
    "        tc[i] = insert_maxim_error_perbit(tcs[idx][i],\n",
    "                                          upset_threshold=SEU_perbit)"
   ]
  },
  {
   "cell_type": "code",
   "execution_count": 11,
   "metadata": {},
   "outputs": [],
   "source": [
    "# Compute avg\n",
    "tc_avg = np.mean(tcs_seu, axis=0)"
   ]
  },
  {
   "cell_type": "code",
   "execution_count": 12,
   "metadata": {},
   "outputs": [
    {
     "name": "stdout",
     "output_type": "stream",
     "text": [
      "RMSE from setpoint: 45.39497268929852\n",
      "Standard Deviation of error: 41.87072488364983\n",
      "Largest error: 448.53125 smallest error: -207.125\n"
     ]
    },
    {
     "data": {
      "image/png": "[encoded data removed]",
      "text/plain": [
       "<Figure size 432x288 with 1 Axes>"
      ]
     },
     "metadata": {},
     "output_type": "display_data"
    }
   ],
   "source": [
    "error_stats(tc_avg, setpoint)\n",
    "fig, ax = plt.subplots(1)\n",
    "ax.hist(tc_avg)\n",
    "ax.set_yscale('log')"
   ]
  },
  {
   "cell_type": "code",
   "execution_count": 13,
   "metadata": {},
   "outputs": [
    {
     "name": "stdout",
     "output_type": "stream",
     "text": [
      "RMSE from setpoint: 1.4329100103133658\n",
      "Standard Deviation of error: 1.429415819521758\n",
      "Largest error: 319.75 smallest error: -60.125\n"
     ]
    },
    {
     "data": {
      "image/png": "[encoded data removed]",
      "text/plain": [
       "<Figure size 432x288 with 1 Axes>"
      ]
     },
     "metadata": {},
     "output_type": "display_data"
    }
   ],
   "source": [
    "''' \n",
    "Experiment 2 b: Median on 8 TCs\n",
    "'''\n",
    "tc_medians = np.median(tcs_seu, axis=0)\n",
    "error_stats(tc_medians, setpoint)\n",
    "fig, ax = plt.subplots(1)\n",
    "ax.hist(tc_medians)\n",
    "ax.set_yscale('log')"
   ]
  },
  {
   "cell_type": "code",
   "execution_count": 14,
   "metadata": {},
   "outputs": [],
   "source": [
    "# Plurality UTILS\n",
    "from itertools import chain, combinations\n",
    "\n",
    "def powerset(iterable, k):\n",
    "    s = list(iterable)\n",
    "    return chain.from_iterable(combinations(s, r) for r in range(k, len(s)+1))"
   ]
  },
  {
   "cell_type": "code",
   "execution_count": 15,
   "metadata": {},
   "outputs": [],
   "source": [
    "'''\n",
    "Experiment 2 c: k-Plurality voting on 8 TCs\n",
    "k=?\n",
    "When no agreement, output median.\n",
    "Use average of agreeing subset\n",
    "'''\n",
    "\n",
    "# For each set of measurements, determine biggest subset of agreeable values\n",
    "# for i in range(tcs_seu.shape[1]):\n",
    "def plurality(tcs_seu, num_pts, k, delta, suppress=False):\n",
    "    defaults = np.median(tcs_seu, axis=0)\n",
    "    voted_out = defaults.copy()\n",
    "\n",
    "    for i in range(num_pts):\n",
    "        ps = powerset(tcs_seu[:, i], k)\n",
    "        best = tuple()\n",
    "        for s in ps: # for each subset in powerset i.e. (60, 60.5, 71)\n",
    "            all_within = True\n",
    "            for meas in s:\n",
    "                for other in s:\n",
    "                    # If any measurement in this subset is not valid, break\n",
    "                    if abs(meas - other) > delta:\n",
    "                        all_within = False\n",
    "                        break\n",
    "                if not all_within:\n",
    "                    break\n",
    "            if not all_within:\n",
    "                continue\n",
    "            if all_within and len(s) > len(best):\n",
    "                best = s\n",
    "        if len(best) >= k:\n",
    "            voted_avg = sum(best)/len(best)\n",
    "            voted_out[i] = voted_avg\n",
    "        else:\n",
    "            if not suppress:\n",
    "                print(f'i={i} using median {defaults[i]} for data {tcs_seu[:,i]}') \n",
    "    return voted_out\n",
    "\n",
    "def plurality_fast(tcs_seu, num_pts, k, delta, suppress=False):\n",
    "    defaults = np.nanmedian(tcs_seu, axis=0)\n",
    "    voted_out = defaults.copy()\n",
    "    \n",
    "    num_not_agreed = 0\n",
    "    \n",
    "    for i in range(num_pts):\n",
    "        msmts = tcs_seu[:, i]\n",
    "        valid_msmts = msmts[~np.isnan(msmts)]\n",
    "        ps = powerset(valid_msmts, k)\n",
    "        best = tuple()\n",
    "        for s in ps: # for each subset in powerset i.e. (60, 60.5, 71)\n",
    "            if abs(max(s) - min(s)) > delta:\n",
    "                continue\n",
    "            if len(s) > len(best):\n",
    "                best = s\n",
    "        if len(best) >= k:\n",
    "            voted_avg = sum(best)/len(best)\n",
    "            voted_out[i] = voted_avg\n",
    "        else:\n",
    "            num_not_agreed += 1\n",
    "            if not suppress:\n",
    "                print(f'i={i} using median {defaults[i]} for data {tcs_seu[:,i]}') \n",
    "    print(f'{num_not_agreed} measurements did not agree for k={k} delta={delta}')\n",
    "    return voted_out"
   ]
  },
  {
   "cell_type": "code",
   "execution_count": 16,
   "metadata": {},
   "outputs": [
    {
     "data": {
      "text/plain": [
       "<function __main__.plurality_fast>"
      ]
     },
     "execution_count": 16,
     "metadata": {},
     "output_type": "execute_result"
    }
   ],
   "source": [
    "plurality_fast"
   ]
  },
  {
   "cell_type": "code",
   "execution_count": 17,
   "metadata": {},
   "outputs": [
    {
     "name": "stdout",
     "output_type": "stream",
     "text": [
      "i=64 using median 60.625 for data [124.25 316.   188.    59.75  61.25  60.    59.75  59.75]\n",
      "1 measurements did not agree for k=5 delta=1\n",
      "0.4206998348236084\n"
     ]
    }
   ],
   "source": [
    "# With max min optimization\n",
    "s = time.time()\n",
    "plural_voted100fast = plurality_fast(tcs_seu, 100, 5, 1)\n",
    "e = time.time()\n",
    "print(e - s)"
   ]
  },
  {
   "cell_type": "code",
   "execution_count": 18,
   "metadata": {},
   "outputs": [
    {
     "name": "stdout",
     "output_type": "stream",
     "text": [
      "i=64 using median 60.625 for data [124.25 316.   188.    59.75  61.25  60.    59.75  59.75]\n",
      "i=105 using median 92.0 for data [ 59.5  124.    58.5  188.   126.25  60.    59.75 315.75]\n",
      "i=197 using median 60.0 for data [ 59.75  51.75  59.75 123.75 572.    27.5   63.75  60.25]\n",
      "i=203 using median 60.5 for data [124.    60.25 571.5  316.    59.75  59.5   60.75  59.5 ]\n",
      "i=310 using median 60.25 for data [124.25 188.    60.    60.5   60.    57.75 571.75  54.  ]\n",
      "i=367 using median 60.0 for data [ 60.    56.5   62.   185.75  60.    56.25  59.75  60.  ]\n",
      "i=436 using median 60.0 for data [ 60.25  59.    62.25  59.75  52.    60.   124.25  60.  ]\n",
      "i=491 using median 59.75 for data [ 60.   -60.25  43.75  59.75  27.75  60.25  59.75 188.  ]\n",
      "i=554 using median 60.375 for data [ 60.5   59.25 571.75  59.5   63.5  827.5   59.75  60.25]\n",
      "i=572 using median 59.875 for data [ 60.5  123.75 -59.75 -59.75  59.5   59.75  60.    63.75]\n",
      "i=587 using median 59.875 for data [ 60.    43.75 315.75 124.25  59.5   59.75  60.   -59.25]\n",
      "i=618 using median 60.25 for data [ 60.75  51.75  60.5   62.25 187.75  59.75  60.    59.5 ]\n",
      "i=792 using median 60.0 for data [ 60.   316.    60.    59.25  59.5  187.5  571.25  58.5 ]\n",
      "i=855 using median 59.875 for data [ 27.75 299.75  59.75  60.25 572.    60.    59.75  27.75]\n",
      "i=875 using median 60.0 for data [ 59.75  60.    59.25 316.25  57.5   60.    63.75 187.5 ]\n",
      "i=910 using median 59.875 for data [1084.     59.75  -59.75 1083.25   60.     59.75   60.     43.75]\n",
      "16 measurements did not agree for k=5 delta=1\n",
      "0.5812931060791016\n"
     ]
    }
   ],
   "source": [
    "# With max min optimization\n",
    "s = time.time()\n",
    "plural_voted1000fast = plurality_fast(tcs_seu, 1000, 5, 1)\n",
    "e = time.time()\n",
    "print(e - s)"
   ]
  },
  {
   "cell_type": "code",
   "execution_count": 19,
   "metadata": {},
   "outputs": [
    {
     "name": "stdout",
     "output_type": "stream",
     "text": [
      "97 measurements did not agree for k=5 delta=1\n",
      "1.6505260467529297\n"
     ]
    }
   ],
   "source": [
    "# With max min optimization\n",
    "s = time.time()\n",
    "plural_voted10_000fast = plurality_fast(tcs_seu, 10000, 5, 1, suppress=True)\n",
    "e = time.time()\n",
    "print(e - s)"
   ]
  },
  {
   "cell_type": "code",
   "execution_count": 20,
   "metadata": {},
   "outputs": [
    {
     "name": "stdout",
     "output_type": "stream",
     "text": [
      "909 measurements did not agree for k=5 delta=1\n",
      "10.89987301826477\n"
     ]
    }
   ],
   "source": [
    "# With max min optimization\n",
    "s = time.time()\n",
    "plural_voted100_000fast = plurality_fast(tcs_seu, 100000, 5, 1, suppress=True)\n",
    "e = time.time()\n",
    "print(e - s)"
   ]
  },
  {
   "cell_type": "code",
   "execution_count": 21,
   "metadata": {},
   "outputs": [
    {
     "name": "stdout",
     "output_type": "stream",
     "text": [
      "9184 measurements did not agree for k=5 delta=1\n",
      "105.9413013458252\n",
      "RMSE from setpoint: 1.4309380342495281\n",
      "Standard Deviation of error: 1.4271368454499849\n",
      "Largest error: 319.75 smallest error: -60.125\n"
     ]
    },
    {
     "data": {
      "text/plain": [
       "(1.4309380342495281, 1.4271368454499849)"
      ]
     },
     "execution_count": 21,
     "metadata": {},
     "output_type": "execute_result"
    }
   ],
   "source": [
    "# k=5, delta=1\n",
    "s = time.time()\n",
    "plural_voted1_000_000fast = plurality_fast(tcs_seu, 1000000, 5, 1, suppress=True)\n",
    "e = time.time()\n",
    "print(e - s)\n",
    "error_stats(plural_voted1_000_000fast, setpoint)"
   ]
  },
  {
   "cell_type": "code",
   "execution_count": 22,
   "metadata": {},
   "outputs": [
    {
     "name": "stdout",
     "output_type": "stream",
     "text": [
      "9184 measurements did not agree for k=5 delta=1\n",
      "105.33676290512085\n",
      "RMSE from setpoint: 1.4309380342495281\n",
      "Standard Deviation of error: 1.4271368454499849\n",
      "Largest error: 319.75 smallest error: -60.125\n"
     ]
    },
    {
     "data": {
      "text/plain": [
       "(1.4309380342495281, 1.4271368454499849)"
      ]
     },
     "execution_count": 22,
     "metadata": {},
     "output_type": "execute_result"
    }
   ],
   "source": [
    "# k=5, delta=1\n",
    "s = time.time()\n",
    "plural_voted1_000_000fastnew = plurality_fast(tcs_seu, 1000000, 5, 1, suppress=True)\n",
    "e = time.time()\n",
    "print(e - s)\n",
    "error_stats(plural_voted1_000_000fastnew, setpoint)"
   ]
  },
  {
   "cell_type": "code",
   "execution_count": 23,
   "metadata": {},
   "outputs": [
    {
     "name": "stdout",
     "output_type": "stream",
     "text": [
      "RMSE from setpoint: 1.4309380342495281\n",
      "Standard Deviation of error: 1.4271368454499849\n",
      "Largest error: 319.75 smallest error: -60.125\n"
     ]
    },
    {
     "data": {
      "text/plain": [
       "(1.4309380342495281, 1.4271368454499849)"
      ]
     },
     "execution_count": 23,
     "metadata": {},
     "output_type": "execute_result"
    }
   ],
   "source": [
    "error_stats(plural_voted1_000_000fast, setpoint)"
   ]
  },
  {
   "cell_type": "code",
   "execution_count": 24,
   "metadata": {},
   "outputs": [
    {
     "name": "stdout",
     "output_type": "stream",
     "text": [
      "9184 measurements did not agree for k=5 delta=1\n",
      "104.71977949142456\n",
      "RMSE from setpoint: 1.4309380342495281\n",
      "Standard Deviation of error: 1.4271368454499849\n",
      "Largest error: 319.75 smallest error: -60.125\n"
     ]
    },
    {
     "data": {
      "text/plain": [
       "(1.4309380342495281, 1.4271368454499849)"
      ]
     },
     "execution_count": 24,
     "metadata": {},
     "output_type": "execute_result"
    }
   ],
   "source": [
    "# k=5, delta=1\n",
    "s = time.time()\n",
    "plural_k5d1 = plurality_fast(tcs_seu, 1000000, 5, 1, suppress=True)\n",
    "e = time.time()\n",
    "print(e - s)\n",
    "error_stats(plural_k5d1, setpoint)"
   ]
  },
  {
   "cell_type": "code",
   "execution_count": 25,
   "metadata": {},
   "outputs": [
    {
     "name": "stdout",
     "output_type": "stream",
     "text": [
      "883 measurements did not agree for k=4 delta=1\n",
      "170.72027707099915\n",
      "RMSE from setpoint: 0.8273537402905974\n",
      "Standard Deviation of error: 0.8189674576819023\n",
      "Largest error: 319.75 smallest error: -32.125\n"
     ]
    },
    {
     "data": {
      "text/plain": [
       "(0.8273537402905974, 0.8189674576819023)"
      ]
     },
     "execution_count": 25,
     "metadata": {},
     "output_type": "execute_result"
    }
   ],
   "source": [
    "# k=4, delta=1\n",
    "s = time.time()\n",
    "plural_k4d1 = plurality_fast(tcs_seu, 1000000, 4, 1, suppress=True)\n",
    "e = time.time()\n",
    "print(e - s)\n",
    "error_stats(plural_k4d1, setpoint)"
   ]
  },
  {
   "cell_type": "code",
   "execution_count": 26,
   "metadata": {},
   "outputs": [
    {
     "data": {
      "image/png": "[encoded data removed]",
      "text/plain": [
       "<Figure size 432x288 with 1 Axes>"
      ]
     },
     "metadata": {},
     "output_type": "display_data"
    }
   ],
   "source": [
    "fig, ax = plt.subplots(1)\n",
    "ax.hist(plural_k4d1)\n",
    "ax.set_yscale('log')"
   ]
  },
  {
   "cell_type": "code",
   "execution_count": 27,
   "metadata": {},
   "outputs": [
    {
     "name": "stdout",
     "output_type": "stream",
     "text": [
      "529 measurements did not agree for k=4 delta=2\n",
      "173.4157359600067\n",
      "RMSE from setpoint: 0.799938485786001\n",
      "Standard Deviation of error: 0.7911587098942301\n",
      "Largest error: 319.75 smallest error: -32.125\n"
     ]
    },
    {
     "data": {
      "text/plain": [
       "(0.799938485786001, 0.7911587098942301)"
      ]
     },
     "execution_count": 27,
     "metadata": {},
     "output_type": "execute_result"
    }
   ],
   "source": [
    "# k=4, delta=2\n",
    "s = time.time()\n",
    "plural_k4d2 = plurality_fast(tcs_seu, 1000000, 4, 2, suppress=True)\n",
    "e = time.time()\n",
    "print(e - s)\n",
    "error_stats(plural_k4d2, setpoint)"
   ]
  },
  {
   "cell_type": "code",
   "execution_count": 28,
   "metadata": {},
   "outputs": [
    {
     "name": "stdout",
     "output_type": "stream",
     "text": [
      "41 measurements did not agree for k=3 delta=1\n",
      "236.7517249584198\n",
      "RMSE from setpoint: 1.4574482618484963\n",
      "Standard Deviation of error: 1.4524888340909239\n",
      "Largest error: 1024.0833333333333 smallest error: -120.08333333333334\n"
     ]
    },
    {
     "data": {
      "text/plain": [
       "(1.4574482618484963, 1.4524888340909239)"
      ]
     },
     "execution_count": 28,
     "metadata": {},
     "output_type": "execute_result"
    }
   ],
   "source": [
    "# k=3, delta=1\n",
    "s = time.time()\n",
    "plural_k3d1 = plurality_fast(tcs_seu, 1000000, 3, 1, suppress=True)\n",
    "e = time.time()\n",
    "print(e - s)\n",
    "error_stats(plural_k3d1, setpoint)"
   ]
  },
  {
   "cell_type": "code",
   "execution_count": 29,
   "metadata": {},
   "outputs": [
    {
     "name": "stdout",
     "output_type": "stream",
     "text": [
      "0 measurements did not agree for k=2 delta=1\n",
      "250.64359140396118\n",
      "RMSE from setpoint: 2.0532520695144085\n",
      "Standard Deviation of error: 2.049850687889958\n",
      "Largest error: 1024.0833333333333 smallest error: -120.08333333333334\n"
     ]
    },
    {
     "data": {
      "text/plain": [
       "(2.0532520695144085, 2.049850687889958)"
      ]
     },
     "execution_count": 29,
     "metadata": {},
     "output_type": "execute_result"
    }
   ],
   "source": [
    "# k=2, delta=1\n",
    "s = time.time()\n",
    "plural_k2d1 = plurality_fast(tcs_seu, 1000000, 2, 1, suppress=True)\n",
    "e = time.time()\n",
    "print(e - s)\n",
    "error_stats(plural_k2d1, setpoint)"
   ]
  },
  {
   "cell_type": "code",
   "execution_count": 30,
   "metadata": {},
   "outputs": [],
   "source": [
    "'''\n",
    "Experiment 3 a: Input validation with 8 TC - Average valid values\n",
    "'''\n",
    "# Using tcs_seu array for data\n",
    "low_bound = -200\n",
    "up_bound = 200\n",
    "\n",
    "invalid = (tcs_seu < low_bound) | (tcs_seu > up_bound)\n",
    "\n",
    "valid = tcs_seu.copy()\n",
    "valid[invalid] = np.NAN\n",
    "\n",
    "valid_avg = np.nanmean(valid, axis=0)"
   ]
  },
  {
   "cell_type": "code",
   "execution_count": 31,
   "metadata": {},
   "outputs": [
    {
     "name": "stdout",
     "output_type": "stream",
     "text": [
      "RMSE from setpoint: 6.851835718145158\n",
      "Standard Deviation of error: 6.851834264039705\n",
      "Largest error: 63.54166666666667 smallest error: -73.65\n"
     ]
    },
    {
     "data": {
      "image/png": "[encoded data removed]",
      "text/plain": [
       "<Figure size 432x288 with 1 Axes>"
      ]
     },
     "metadata": {},
     "output_type": "display_data"
    }
   ],
   "source": [
    "error_stats(valid_avg, setpoint)\n",
    "fig, ax = plt.subplots(1)\n",
    "ax.hist(valid_avg)\n",
    "ax.set_yscale('log')"
   ]
  },
  {
   "cell_type": "code",
   "execution_count": 32,
   "metadata": {},
   "outputs": [],
   "source": [
    "'''\n",
    "Experiment 3 b: Input validation with 8 TC - Median of valid values\n",
    "'''\n",
    "# Using tcs_seu array for data\n",
    "low_bound = -200\n",
    "up_bound = 200\n",
    "\n",
    "invalid = (tcs_seu < low_bound) | (tcs_seu > up_bound)\n",
    "\n",
    "valid = tcs_seu.copy()\n",
    "valid[invalid] = np.NAN\n",
    "\n",
    "valid_med = np.nanmedian(valid, axis=0)"
   ]
  },
  {
   "cell_type": "code",
   "execution_count": 33,
   "metadata": {},
   "outputs": [
    {
     "name": "stdout",
     "output_type": "stream",
     "text": [
      "RMSE from setpoint: 0.25879928576504996\n",
      "Standard Deviation of error: 0.2221452235883306\n",
      "Largest error: 62.875 smallest error: -60.125\n"
     ]
    },
    {
     "data": {
      "image/png": "[encoded data removed]",
      "text/plain": [
       "<Figure size 432x288 with 1 Axes>"
      ]
     },
     "metadata": {},
     "output_type": "display_data"
    }
   ],
   "source": [
    "error_stats(valid_med, setpoint)\n",
    "fig, ax = plt.subplots(1)\n",
    "ax.hist(valid_med)\n",
    "ax.set_yscale('log')"
   ]
  },
  {
   "cell_type": "code",
   "execution_count": 34,
   "metadata": {},
   "outputs": [
    {
     "name": "stdout",
     "output_type": "stream",
     "text": [
      "883 measurements did not agree for k=4 delta=1\n"
     ]
    }
   ],
   "source": [
    "'''\n",
    "Experiment 3 c: Input validation with 8 TC - Plurality vote on valid values\n",
    "'''\n",
    "# Using tcs_seu array for data\n",
    "low_bound = -200\n",
    "up_bound = 200\n",
    "\n",
    "invalid = (tcs_seu < low_bound) | (tcs_seu > up_bound)\n",
    "\n",
    "valid = tcs_seu.copy()\n",
    "valid[invalid] = np.NAN\n",
    "\n",
    "# k=4, delta=1\n",
    "k=4\n",
    "delta=1\n",
    "plural_valid_k4d1 = plurality_fast(valid, valid.shape[1], k, delta, suppress=True)"
   ]
  },
  {
   "cell_type": "code",
   "execution_count": 35,
   "metadata": {},
   "outputs": [
    {
     "name": "stdout",
     "output_type": "stream",
     "text": [
      "RMSE from setpoint: 0.2125654050324073\n",
      "Standard Deviation of error: 0.17251683713594407\n",
      "Largest error: 62.875 smallest error: -60.0\n"
     ]
    },
    {
     "data": {
      "image/png": "[encoded data removed]",
      "text/plain": [
       "<Figure size 432x288 with 1 Axes>"
      ]
     },
     "metadata": {},
     "output_type": "display_data"
    }
   ],
   "source": [
    "error_stats(plural_valid_k4d1, setpoint)\n",
    "fig, ax = plt.subplots(1)\n",
    "ax.hist(plural_valid_k4d1, bins=40)\n",
    "ax.set_yscale('log')"
   ]
  },
  {
   "cell_type": "code",
   "execution_count": 36,
   "metadata": {},
   "outputs": [
    {
     "ename": "KeyboardInterrupt",
     "evalue": "",
     "output_type": "error",
     "traceback": [
      "\u001b[0;31m---------------------------------------------------------------------------\u001b[0m",
      "\u001b[0;31mKeyboardInterrupt\u001b[0m                         Traceback (most recent call last)",
      "\u001b[0;32m<ipython-input-36-07d21dca9587>\u001b[0m in \u001b[0;36m<module>\u001b[0;34m()\u001b[0m\n\u001b[1;32m      2\u001b[0m \u001b[0mk\u001b[0m\u001b[0;34m=\u001b[0m\u001b[0;36m3\u001b[0m\u001b[0;34m\u001b[0m\u001b[0;34m\u001b[0m\u001b[0m\n\u001b[1;32m      3\u001b[0m \u001b[0mdelta\u001b[0m\u001b[0;34m=\u001b[0m\u001b[0;36m1\u001b[0m\u001b[0;34m\u001b[0m\u001b[0;34m\u001b[0m\u001b[0m\n\u001b[0;32m----> 4\u001b[0;31m \u001b[0mplural_valid_k3d1\u001b[0m \u001b[0;34m=\u001b[0m \u001b[0mplurality_fast\u001b[0m\u001b[0;34m(\u001b[0m\u001b[0mvalid\u001b[0m\u001b[0;34m,\u001b[0m \u001b[0mvalid\u001b[0m\u001b[0;34m.\u001b[0m\u001b[0mshape\u001b[0m\u001b[0;34m[\u001b[0m\u001b[0;36m1\u001b[0m\u001b[0;34m]\u001b[0m\u001b[0;34m,\u001b[0m \u001b[0mk\u001b[0m\u001b[0;34m,\u001b[0m \u001b[0mdelta\u001b[0m\u001b[0;34m,\u001b[0m \u001b[0msuppress\u001b[0m\u001b[0;34m=\u001b[0m\u001b[0;32mTrue\u001b[0m\u001b[0;34m)\u001b[0m\u001b[0;34m\u001b[0m\u001b[0;34m\u001b[0m\u001b[0m\n\u001b[0m",
      "\u001b[0;32m<ipython-input-15-9b5575fe4dc9>\u001b[0m in \u001b[0;36mplurality_fast\u001b[0;34m(tcs_seu, num_pts, k, delta, suppress)\u001b[0m\n\u001b[1;32m     49\u001b[0m         \u001b[0mbest\u001b[0m \u001b[0;34m=\u001b[0m \u001b[0mtuple\u001b[0m\u001b[0;34m(\u001b[0m\u001b[0;34m)\u001b[0m\u001b[0;34m\u001b[0m\u001b[0;34m\u001b[0m\u001b[0m\n\u001b[1;32m     50\u001b[0m         \u001b[0;32mfor\u001b[0m \u001b[0ms\u001b[0m \u001b[0;32min\u001b[0m \u001b[0mps\u001b[0m\u001b[0;34m:\u001b[0m \u001b[0;31m# for each subset in powerset i.e. (60, 60.5, 71)\u001b[0m\u001b[0;34m\u001b[0m\u001b[0;34m\u001b[0m\u001b[0m\n\u001b[0;32m---> 51\u001b[0;31m             \u001b[0;32mif\u001b[0m \u001b[0mabs\u001b[0m\u001b[0;34m(\u001b[0m\u001b[0mmax\u001b[0m\u001b[0;34m(\u001b[0m\u001b[0ms\u001b[0m\u001b[0;34m)\u001b[0m \u001b[0;34m-\u001b[0m \u001b[0mmin\u001b[0m\u001b[0;34m(\u001b[0m\u001b[0ms\u001b[0m\u001b[0;34m)\u001b[0m\u001b[0;34m)\u001b[0m \u001b[0;34m>\u001b[0m \u001b[0mdelta\u001b[0m\u001b[0;34m:\u001b[0m\u001b[0;34m\u001b[0m\u001b[0;34m\u001b[0m\u001b[0m\n\u001b[0m\u001b[1;32m     52\u001b[0m                 \u001b[0;32mcontinue\u001b[0m\u001b[0;34m\u001b[0m\u001b[0;34m\u001b[0m\u001b[0m\n\u001b[1;32m     53\u001b[0m             \u001b[0;32mif\u001b[0m \u001b[0mlen\u001b[0m\u001b[0;34m(\u001b[0m\u001b[0ms\u001b[0m\u001b[0;34m)\u001b[0m \u001b[0;34m>\u001b[0m \u001b[0mlen\u001b[0m\u001b[0;34m(\u001b[0m\u001b[0mbest\u001b[0m\u001b[0;34m)\u001b[0m\u001b[0;34m:\u001b[0m\u001b[0;34m\u001b[0m\u001b[0;34m\u001b[0m\u001b[0m\n",
      "\u001b[0;31mKeyboardInterrupt\u001b[0m: "
     ]
    }
   ],
   "source": [
    "# k=3, delta=1\n",
    "k=3\n",
    "delta=1\n",
    "plural_valid_k3d1 = plurality_fast(valid, valid.shape[1], k, delta, suppress=True)"
   ]
  },
  {
   "cell_type": "code",
   "execution_count": null,
   "metadata": {},
   "outputs": [],
   "source": [
    "error_stats(plural_valid_k3d1, setpoint)\n",
    "fig, ax = plt.subplots(1)\n",
    "ax.hist(plural_valid_k3d1, bins=40)\n",
    "ax.set_yscale('log')"
   ]
  },
  {
   "cell_type": "code",
   "execution_count": null,
   "metadata": {},
   "outputs": [],
   "source": [
    "# k=2, delta=1\n",
    "k=2\n",
    "delta=1\n",
    "plural_valid_k2d1 = plurality_fast(valid, valid.shape[1], k, delta, suppress=True)"
   ]
  },
  {
   "cell_type": "code",
   "execution_count": null,
   "metadata": {},
   "outputs": [],
   "source": [
    "error_stats(plural_valid_k2d1, setpoint)\n",
    "fig, ax = plt.subplots(1)\n",
    "ax.hist(plural_valid_k2d1, bins=40)\n",
    "ax.set_yscale('log')"
   ]
  },
  {
   "cell_type": "code",
   "execution_count": null,
   "metadata": {},
   "outputs": [],
   "source": [
    "# k=3, delta=3\n",
    "k=3\n",
    "delta=3\n",
    "plural_valid_k3d3 = plurality_fast(valid, valid.shape[1], k, delta, suppress=True)\n"
   ]
  },
  {
   "cell_type": "code",
   "execution_count": null,
   "metadata": {},
   "outputs": [],
   "source": [
    "error_stats(plural_valid_k3d3, setpoint)\n",
    "fig, ax = plt.subplots(1)\n",
    "ax.hist(plural_valid_k3d3, bins=40)\n",
    "ax.set_yscale('log')"
   ]
  },
  {
   "cell_type": "code",
   "execution_count": 37,
   "metadata": {},
   "outputs": [
    {
     "name": "stdout",
     "output_type": "stream",
     "text": [
      "2658 measurements did not agree for k=2 delta=0.1\n",
      "27 measurements did not agree for k=2 delta=0.42222222222222217\n",
      "1 measurements did not agree for k=2 delta=0.7444444444444444\n",
      "0 measurements did not agree for k=2 delta=1.0666666666666667\n",
      "0 measurements did not agree for k=2 delta=1.3888888888888888\n",
      "0 measurements did not agree for k=2 delta=1.711111111111111\n",
      "0 measurements did not agree for k=2 delta=2.033333333333333\n",
      "0 measurements did not agree for k=2 delta=2.3555555555555556\n",
      "0 measurements did not agree for k=2 delta=2.6777777777777776\n",
      "0 measurements did not agree for k=2 delta=3.0\n",
      "172951 measurements did not agree for k=3 delta=0.1\n",
      "3591 measurements did not agree for k=3 delta=0.42222222222222217\n",
      "323 measurements did not agree for k=3 delta=0.7444444444444444\n",
      "43 measurements did not agree for k=3 delta=1.0666666666666667\n",
      "35 measurements did not agree for k=3 delta=1.3888888888888888\n",
      "31 measurements did not agree for k=3 delta=1.711111111111111\n",
      "24 measurements did not agree for k=3 delta=2.033333333333333\n",
      "18 measurements did not agree for k=3 delta=2.3555555555555556\n",
      "15 measurements did not agree for k=3 delta=2.6777777777777776\n",
      "15 measurements did not agree for k=3 delta=3.0\n",
      "615141 measurements did not agree for k=4 delta=0.1\n",
      "61642 measurements did not agree for k=4 delta=0.42222222222222217\n",
      "6813 measurements did not agree for k=4 delta=0.7444444444444444\n",
      "883 measurements did not agree for k=4 delta=1.0666666666666667\n",
      "683 measurements did not agree for k=4 delta=1.3888888888888888\n",
      "596 measurements did not agree for k=4 delta=1.711111111111111\n",
      "529 measurements did not agree for k=4 delta=2.033333333333333\n",
      "461 measurements did not agree for k=4 delta=2.3555555555555556\n",
      "392 measurements did not agree for k=4 delta=2.6777777777777776\n",
      "369 measurements did not agree for k=4 delta=3.0\n",
      "889905 measurements did not agree for k=5 delta=0.1\n",
      "289686 measurements did not agree for k=5 delta=0.42222222222222217\n",
      "53437 measurements did not agree for k=5 delta=0.7444444444444444\n",
      "9184 measurements did not agree for k=5 delta=1.0666666666666667\n",
      "7384 measurements did not agree for k=5 delta=1.3888888888888888\n",
      "6485 measurements did not agree for k=5 delta=1.711111111111111\n",
      "5917 measurements did not agree for k=5 delta=2.033333333333333\n",
      "5338 measurements did not agree for k=5 delta=2.3555555555555556\n",
      "4714 measurements did not agree for k=5 delta=2.6777777777777776\n",
      "4366 measurements did not agree for k=5 delta=3.0\n",
      "979190 measurements did not agree for k=6 delta=0.1\n",
      "623202 measurements did not agree for k=6 delta=0.42222222222222217\n",
      "223960 measurements did not agree for k=6 delta=0.7444444444444444\n",
      "59790 measurements did not agree for k=6 delta=1.0666666666666667\n",
      "50772 measurements did not agree for k=6 delta=1.3888888888888888\n",
      "45998 measurements did not agree for k=6 delta=1.711111111111111\n",
      "42994 measurements did not agree for k=6 delta=2.033333333333333\n",
      "40425 measurements did not agree for k=6 delta=2.3555555555555556\n",
      "36809 measurements did not agree for k=6 delta=2.6777777777777776\n",
      "34501 measurements did not agree for k=6 delta=3.0\n",
      "997723 measurements did not agree for k=7 delta=0.1\n",
      "878382 measurements did not agree for k=7 delta=0.42222222222222217\n",
      "551949 measurements did not agree for k=7 delta=0.7444444444444444\n",
      "247564 measurements did not agree for k=7 delta=1.0666666666666667\n",
      "223463 measurements did not agree for k=7 delta=1.3888888888888888\n",
      "209857 measurements did not agree for k=7 delta=1.711111111111111\n",
      "200921 measurements did not agree for k=7 delta=2.033333333333333\n",
      "194310 measurements did not agree for k=7 delta=2.3555555555555556\n",
      "183286 measurements did not agree for k=7 delta=2.6777777777777776\n",
      "175198 measurements did not agree for k=7 delta=3.0\n",
      "999878 measurements did not agree for k=8 delta=0.1\n",
      "981854 measurements did not agree for k=8 delta=0.42222222222222217\n",
      "874690 measurements did not agree for k=8 delta=0.7444444444444444\n",
      "643373 measurements did not agree for k=8 delta=1.0666666666666667\n",
      "616475 measurements did not agree for k=8 delta=1.3888888888888888\n",
      "600089 measurements did not agree for k=8 delta=1.711111111111111\n",
      "588642 measurements did not agree for k=8 delta=2.033333333333333\n",
      "581621 measurements did not agree for k=8 delta=2.3555555555555556\n",
      "566988 measurements did not agree for k=8 delta=2.6777777777777776\n",
      "555611 measurements did not agree for k=8 delta=3.0\n"
     ]
    }
   ],
   "source": [
    "'''\n",
    "Generate lots of k-Plurality RMSE and STD data with input validation\n",
    "'''\n",
    "ks = np.arange(2,8+1)\n",
    "deltas = np.linspace(.1, 3, 10)\n",
    "rmses = np.zeros((len(ks), len(deltas)))\n",
    "stds = np.zeros_like(rmses)\n",
    "for i, k in enumerate(ks):\n",
    "    for j, d in enumerate(deltas):\n",
    "        v = plurality_fast(valid, valid.shape[1], k, d, suppress=True)\n",
    "        rmse, std = error_stats(v, setpoint, suppress=True)\n",
    "        rmses[i, j] = rmse\n",
    "        stds[i, j] = std"
   ]
  },
  {
   "cell_type": "code",
   "execution_count": 42,
   "metadata": {},
   "outputs": [
    {
     "data": {
      "text/plain": [
       "(2, 3)"
      ]
     },
     "execution_count": 42,
     "metadata": {},
     "output_type": "execute_result"
    }
   ],
   "source": [
    "np.unravel_index(np.argmin(rmses), rmses.shape)"
   ]
  },
  {
   "cell_type": "code",
   "execution_count": 43,
   "metadata": {},
   "outputs": [
    {
     "data": {
      "text/plain": [
       "4"
      ]
     },
     "execution_count": 43,
     "metadata": {},
     "output_type": "execute_result"
    }
   ],
   "source": [
    "ks[2]"
   ]
  },
  {
   "cell_type": "code",
   "execution_count": 45,
   "metadata": {},
   "outputs": [
    {
     "data": {
      "text/plain": [
       "array([0.46793921, 0.40899497, 0.21256541, 0.24139106, 0.2435809 ,\n",
       "       0.24843401, 0.25510517])"
      ]
     },
     "execution_count": 45,
     "metadata": {},
     "output_type": "execute_result"
    }
   ],
   "source": [
    "rmses[:, 3]\n"
   ]
  },
  {
   "cell_type": "code",
   "execution_count": 56,
   "metadata": {},
   "outputs": [
    {
     "data": {
      "image/png": "[encoded data removed]",
      "text/plain": [
       "<Figure size 432x288 with 1 Axes>"
      ]
     },
     "metadata": {},
     "output_type": "display_data"
    }
   ],
   "source": [
    "x = np.tile(ks, len(deltas[2:])).reshape((len(ks)*len(deltas[2:]),))\n",
    "y = np.repeat(deltas[2:], len(ks))\n",
    "z = np.reshape(rmses[:, 2:], (len(ks)*len(deltas[2:],)))\n",
    "ax = plt.axes(projection='3d')\n",
    "ax.scatter(x, y, z, c=z, cmap='viridis', linewidth=0.5);"
   ]
  },
  {
   "cell_type": "code",
   "execution_count": 75,
   "metadata": {},
   "outputs": [
    {
     "data": {
      "image/png": "[encoded data removed]",
      "text/plain": [
       "<Figure size 432x288 with 1 Axes>"
      ]
     },
     "metadata": {},
     "output_type": "display_data"
    }
   ],
   "source": [
    "ax = plt.axes(projection='3d')\n",
    "ax.plot_trisurf(x, y, z,\n",
    "                cmap='hot', edgecolor='none');\n",
    "ax.view_init(40, 45)"
   ]
  },
  {
   "cell_type": "code",
   "execution_count": 76,
   "metadata": {},
   "outputs": [],
   "source": [
    "np.savetxt('rmses.saved', rmses)\n",
    "np.savetxt('stds.saved', stds)"
   ]
  }
 ],
 "metadata": {
  "kernelspec": {
   "display_name": "Python 3",
   "language": "python",
   "name": "python3"
  },
  "language_info": {
   "codemirror_mode": {
    "name": "ipython",
    "version": 3
   },
   "file_extension": ".py",
   "mimetype": "text/x-python",
   "name": "python",
   "nbconvert_exporter": "python",
   "pygments_lexer": "ipython3",
   "version": "3.6.9"
  }
 },
 "nbformat": 4,
 "nbformat_minor": 2
}
